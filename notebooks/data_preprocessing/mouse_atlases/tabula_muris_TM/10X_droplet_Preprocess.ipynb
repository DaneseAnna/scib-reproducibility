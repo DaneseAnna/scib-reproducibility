{
 "cells": [
  {
   "cell_type": "code",
   "execution_count": 1,
   "metadata": {},
   "outputs": [],
   "source": [
    "import scanpy as sc\n",
    "import numpy as np\n",
    "import pandas as pd\n",
    "import re\n",
    "import scIB\n",
    "import seaborn as sns\n",
    "import matplotlib.pyplot as plt\n",
    "import glob"
   ]
  },
  {
   "cell_type": "code",
   "execution_count": 2,
   "metadata": {},
   "outputs": [],
   "source": [
    "raw_data_dir = \"/storage/groups/ml01/projects/2019_scIB_daniel.strobl_michaela.mueller/TM/\"\n",
    "data_dir = \"/storage/groups/ml01/workspace/group.daniela/tm/\""
   ]
  },
  {
   "cell_type": "code",
   "execution_count": 3,
   "metadata": {},
   "outputs": [
    {
     "data": {
      "text/plain": [
       "11"
      ]
     },
     "execution_count": 3,
     "metadata": {},
     "output_type": "execute_result"
    }
   ],
   "source": [
    "relevant_tissues = {'Bladder', 'Brain', 'Kidney', 'Liver', 'Lung', 'Mammary_Gland',\n",
    " 'Marrow', 'Limb_Muscle', 'Pancreas', 'Spleen', 'Thymus'}\n",
    "len(relevant_tissues)"
   ]
  },
  {
   "cell_type": "markdown",
   "metadata": {},
   "source": [
    "## Read Data"
   ]
  },
  {
   "cell_type": "code",
   "execution_count": 4,
   "metadata": {},
   "outputs": [],
   "source": [
    "dropletDirs = glob.glob(raw_data_dir+\"10X/droplet/*\")\n",
    "filteredDirs = [i for i in dropletDirs if any(substr in i for substr in relevant_tissues)]"
   ]
  },
  {
   "cell_type": "code",
   "execution_count": 5,
   "metadata": {},
   "outputs": [
    {
     "name": "stdout",
     "output_type": "stream",
     "text": [
      "Thymus\n",
      "Kidney\n",
      "Limb_Muscle\n",
      "Lung\n",
      "Kidney\n"
     ]
    },
    {
     "name": "stderr",
     "output_type": "stream",
     "text": [
      "Observation names are not unique. To make them unique, call `.obs_names_make_unique`.\n",
      "Or pass `index_unique!=None` to `.concatenate`.\n"
     ]
    },
    {
     "name": "stdout",
     "output_type": "stream",
     "text": [
      "Kidney\n"
     ]
    },
    {
     "name": "stderr",
     "output_type": "stream",
     "text": [
      "Observation names are not unique. To make them unique, call `.obs_names_make_unique`.\n",
      "Or pass `index_unique!=None` to `.concatenate`.\n"
     ]
    },
    {
     "name": "stdout",
     "output_type": "stream",
     "text": [
      "Bladder\n",
      "Liver\n",
      "Liver\n"
     ]
    },
    {
     "name": "stderr",
     "output_type": "stream",
     "text": [
      "Observation names are not unique. To make them unique, call `.obs_names_make_unique`.\n",
      "Or pass `index_unique!=None` to `.concatenate`.\n"
     ]
    },
    {
     "name": "stdout",
     "output_type": "stream",
     "text": [
      "Marrow\n",
      "Mammary_Gland\n",
      "Spleen\n",
      "Bladder\n",
      "Bladder\n"
     ]
    },
    {
     "name": "stderr",
     "output_type": "stream",
     "text": [
      "Observation names are not unique. To make them unique, call `.obs_names_make_unique`.\n",
      "Or pass `index_unique!=None` to `.concatenate`.\n"
     ]
    },
    {
     "name": "stdout",
     "output_type": "stream",
     "text": [
      "Lung\n"
     ]
    },
    {
     "name": "stderr",
     "output_type": "stream",
     "text": [
      "Observation names are not unique. To make them unique, call `.obs_names_make_unique`.\n",
      "Or pass `index_unique!=None` to `.concatenate`.\n"
     ]
    },
    {
     "name": "stdout",
     "output_type": "stream",
     "text": [
      "Lung\n"
     ]
    },
    {
     "name": "stderr",
     "output_type": "stream",
     "text": [
      "Observation names are not unique. To make them unique, call `.obs_names_make_unique`.\n",
      "Or pass `index_unique!=None` to `.concatenate`.\n"
     ]
    },
    {
     "name": "stdout",
     "output_type": "stream",
     "text": [
      "Spleen\n"
     ]
    },
    {
     "name": "stderr",
     "output_type": "stream",
     "text": [
      "Observation names are not unique. To make them unique, call `.obs_names_make_unique`.\n",
      "Or pass `index_unique!=None` to `.concatenate`.\n"
     ]
    },
    {
     "name": "stdout",
     "output_type": "stream",
     "text": [
      "Limb_Muscle\n"
     ]
    },
    {
     "name": "stderr",
     "output_type": "stream",
     "text": [
      "Observation names are not unique. To make them unique, call `.obs_names_make_unique`.\n",
      "Or pass `index_unique!=None` to `.concatenate`.\n"
     ]
    },
    {
     "name": "stdout",
     "output_type": "stream",
     "text": [
      "Lung\n"
     ]
    },
    {
     "name": "stderr",
     "output_type": "stream",
     "text": [
      "Observation names are not unique. To make them unique, call `.obs_names_make_unique`.\n",
      "Or pass `index_unique!=None` to `.concatenate`.\n"
     ]
    },
    {
     "name": "stdout",
     "output_type": "stream",
     "text": [
      "Mammary_Gland\n"
     ]
    },
    {
     "name": "stderr",
     "output_type": "stream",
     "text": [
      "Observation names are not unique. To make them unique, call `.obs_names_make_unique`.\n",
      "Or pass `index_unique!=None` to `.concatenate`.\n"
     ]
    },
    {
     "name": "stdout",
     "output_type": "stream",
     "text": [
      "Liver\n"
     ]
    },
    {
     "name": "stderr",
     "output_type": "stream",
     "text": [
      "Observation names are not unique. To make them unique, call `.obs_names_make_unique`.\n",
      "Or pass `index_unique!=None` to `.concatenate`.\n"
     ]
    },
    {
     "name": "stdout",
     "output_type": "stream",
     "text": [
      "Marrow\n"
     ]
    },
    {
     "name": "stderr",
     "output_type": "stream",
     "text": [
      "Observation names are not unique. To make them unique, call `.obs_names_make_unique`.\n",
      "Or pass `index_unique!=None` to `.concatenate`.\n"
     ]
    }
   ],
   "source": [
    "# merge by cell type\n",
    "adatas = {}\n",
    "for file_name in filteredDirs:\n",
    "    tmp = sc.read_10x_mtx(file_name, cache=True, make_unique=False)\n",
    "    ids = file_name.split(\"/\")[-1].split(\"-\")\n",
    "    tissue = ids[0]\n",
    "    print(tissue)\n",
    "    \n",
    "    tmp.obs['tissue'] = [tissue]*tmp.n_obs\n",
    "    tmp.obs['channel'] = [ids[1]]*tmp.n_obs\n",
    "    \n",
    "    if tissue in adatas:\n",
    "        adatas[tissue] = adatas[tissue].concatenate(tmp, index_unique=None)\n",
    "        adatas[tissue]\n",
    "    else:\n",
    "        adatas[tissue] = tmp"
   ]
  },
  {
   "cell_type": "code",
   "execution_count": 6,
   "metadata": {},
   "outputs": [
    {
     "data": {
      "text/plain": [
       "{'Thymus': AnnData object with n_obs × n_vars = 1431 × 23433 \n",
       "     obs: 'tissue', 'channel'\n",
       "     var: 'gene_ids',\n",
       " 'Kidney': AnnData object with n_obs × n_vars = 2782 × 23433 \n",
       "     obs: 'batch', 'channel', 'tissue'\n",
       "     var: 'gene_ids',\n",
       " 'Limb_Muscle': AnnData object with n_obs × n_vars = 4543 × 23433 \n",
       "     obs: 'batch', 'channel', 'tissue'\n",
       "     var: 'gene_ids',\n",
       " 'Lung': AnnData object with n_obs × n_vars = 1476710 × 23433 \n",
       "     obs: 'batch', 'channel', 'tissue'\n",
       "     var: 'gene_ids',\n",
       " 'Bladder': AnnData object with n_obs × n_vars = 2500 × 23433 \n",
       "     obs: 'batch', 'channel', 'tissue'\n",
       "     var: 'gene_ids',\n",
       " 'Liver': AnnData object with n_obs × n_vars = 1924 × 23433 \n",
       "     obs: 'batch', 'channel', 'tissue'\n",
       "     var: 'gene_ids',\n",
       " 'Marrow': AnnData object with n_obs × n_vars = 4112 × 23433 \n",
       "     obs: 'batch', 'channel', 'tissue'\n",
       "     var: 'gene_ids',\n",
       " 'Mammary_Gland': AnnData object with n_obs × n_vars = 4481 × 23433 \n",
       "     obs: 'batch', 'channel', 'tissue'\n",
       "     var: 'gene_ids',\n",
       " 'Spleen': AnnData object with n_obs × n_vars = 9573 × 23433 \n",
       "     obs: 'batch', 'channel', 'tissue'\n",
       "     var: 'gene_ids'}"
      ]
     },
     "execution_count": 6,
     "metadata": {},
     "output_type": "execute_result"
    }
   ],
   "source": [
    "adatas"
   ]
  },
  {
   "cell_type": "markdown",
   "metadata": {},
   "source": [
    "## Annotation"
   ]
  },
  {
   "cell_type": "code",
   "execution_count": 7,
   "metadata": {},
   "outputs": [
    {
     "name": "stderr",
     "output_type": "stream",
     "text": [
      "/home/icb/michaela.mueller/miniconda3/envs/sc-tutorial/lib/python3.7/site-packages/IPython/core/interactiveshell.py:3058: DtypeWarning: Columns (10) have mixed types. Specify dtype option on import or set low_memory=False.\n",
      "  interactivity=interactivity, compiler=compiler, result=result)\n"
     ]
    }
   ],
   "source": [
    "anno = pd.read_csv(raw_data_dir+\"10X/annotations_droplet.csv\")"
   ]
  },
  {
   "cell_type": "code",
   "execution_count": 8,
   "metadata": {},
   "outputs": [
    {
     "data": {
      "text/html": [
       "<div>\n",
       "<style scoped>\n",
       "    .dataframe tbody tr th:only-of-type {\n",
       "        vertical-align: middle;\n",
       "    }\n",
       "\n",
       "    .dataframe tbody tr th {\n",
       "        vertical-align: top;\n",
       "    }\n",
       "\n",
       "    .dataframe thead th {\n",
       "        text-align: right;\n",
       "    }\n",
       "</style>\n",
       "<table border=\"1\" class=\"dataframe\">\n",
       "  <thead>\n",
       "    <tr style=\"text-align: right;\">\n",
       "      <th></th>\n",
       "      <th>cell</th>\n",
       "      <th>cell_ontology_class</th>\n",
       "      <th>cell_ontology_id</th>\n",
       "      <th>channel</th>\n",
       "      <th>cluster.ids</th>\n",
       "      <th>free_annotation</th>\n",
       "      <th>mouse.id</th>\n",
       "      <th>mouse.sex</th>\n",
       "      <th>subsetA</th>\n",
       "      <th>subsetA_cluster.ids</th>\n",
       "      <th>subsetB</th>\n",
       "      <th>subsetB_cluster.ids</th>\n",
       "      <th>subtissue</th>\n",
       "      <th>tissue</th>\n",
       "      <th>tissue_tSNE_1</th>\n",
       "      <th>tissue_tSNE_2</th>\n",
       "    </tr>\n",
       "  </thead>\n",
       "  <tbody>\n",
       "    <tr>\n",
       "      <th>0</th>\n",
       "      <td>10X_P7_8_AAACGGGAGGATATAC</td>\n",
       "      <td>myeloid cell</td>\n",
       "      <td>CL:0000763</td>\n",
       "      <td>10X_P7_8</td>\n",
       "      <td>20</td>\n",
       "      <td>dendritic cells and interstital macrophages</td>\n",
       "      <td>3-F-56</td>\n",
       "      <td>F</td>\n",
       "      <td>NaN</td>\n",
       "      <td>NaN</td>\n",
       "      <td>NaN</td>\n",
       "      <td>NaN</td>\n",
       "      <td>NaN</td>\n",
       "      <td>Lung</td>\n",
       "      <td>17.024721</td>\n",
       "      <td>-32.902836</td>\n",
       "    </tr>\n",
       "    <tr>\n",
       "      <th>1</th>\n",
       "      <td>10X_P7_8_AAACGGGTCTCGTATT</td>\n",
       "      <td>alveolar macrophage</td>\n",
       "      <td>CL:0000583</td>\n",
       "      <td>10X_P7_8</td>\n",
       "      <td>5</td>\n",
       "      <td>NaN</td>\n",
       "      <td>3-F-56</td>\n",
       "      <td>F</td>\n",
       "      <td>NaN</td>\n",
       "      <td>NaN</td>\n",
       "      <td>NaN</td>\n",
       "      <td>NaN</td>\n",
       "      <td>NaN</td>\n",
       "      <td>Lung</td>\n",
       "      <td>25.160619</td>\n",
       "      <td>25.066566</td>\n",
       "    </tr>\n",
       "    <tr>\n",
       "      <th>2</th>\n",
       "      <td>10X_P7_8_AAAGATGCAGATCTGT</td>\n",
       "      <td>B cell</td>\n",
       "      <td>CL:0000236</td>\n",
       "      <td>10X_P7_8</td>\n",
       "      <td>12</td>\n",
       "      <td>NaN</td>\n",
       "      <td>3-F-56</td>\n",
       "      <td>F</td>\n",
       "      <td>NaN</td>\n",
       "      <td>NaN</td>\n",
       "      <td>NaN</td>\n",
       "      <td>NaN</td>\n",
       "      <td>NaN</td>\n",
       "      <td>Lung</td>\n",
       "      <td>1.740567</td>\n",
       "      <td>46.488878</td>\n",
       "    </tr>\n",
       "    <tr>\n",
       "      <th>3</th>\n",
       "      <td>10X_P7_8_AAATGCCAGATAGTCA</td>\n",
       "      <td>natural killer cell</td>\n",
       "      <td>CL:0000623</td>\n",
       "      <td>10X_P7_8</td>\n",
       "      <td>7</td>\n",
       "      <td>NaN</td>\n",
       "      <td>3-F-56</td>\n",
       "      <td>F</td>\n",
       "      <td>NaN</td>\n",
       "      <td>NaN</td>\n",
       "      <td>NaN</td>\n",
       "      <td>NaN</td>\n",
       "      <td>NaN</td>\n",
       "      <td>Lung</td>\n",
       "      <td>-31.647934</td>\n",
       "      <td>-2.208061</td>\n",
       "    </tr>\n",
       "    <tr>\n",
       "      <th>4</th>\n",
       "      <td>10X_P7_8_AAATGCCCAAACTGCT</td>\n",
       "      <td>T cell</td>\n",
       "      <td>CL:0000084</td>\n",
       "      <td>10X_P7_8</td>\n",
       "      <td>21</td>\n",
       "      <td>NaN</td>\n",
       "      <td>3-F-56</td>\n",
       "      <td>F</td>\n",
       "      <td>NaN</td>\n",
       "      <td>NaN</td>\n",
       "      <td>NaN</td>\n",
       "      <td>NaN</td>\n",
       "      <td>NaN</td>\n",
       "      <td>Lung</td>\n",
       "      <td>-37.281266</td>\n",
       "      <td>-5.619565</td>\n",
       "    </tr>\n",
       "  </tbody>\n",
       "</table>\n",
       "</div>"
      ],
      "text/plain": [
       "                        cell  cell_ontology_class cell_ontology_id   channel  \\\n",
       "0  10X_P7_8_AAACGGGAGGATATAC         myeloid cell       CL:0000763  10X_P7_8   \n",
       "1  10X_P7_8_AAACGGGTCTCGTATT  alveolar macrophage       CL:0000583  10X_P7_8   \n",
       "2  10X_P7_8_AAAGATGCAGATCTGT               B cell       CL:0000236  10X_P7_8   \n",
       "3  10X_P7_8_AAATGCCAGATAGTCA  natural killer cell       CL:0000623  10X_P7_8   \n",
       "4  10X_P7_8_AAATGCCCAAACTGCT               T cell       CL:0000084  10X_P7_8   \n",
       "\n",
       "   cluster.ids                              free_annotation mouse.id  \\\n",
       "0           20  dendritic cells and interstital macrophages   3-F-56   \n",
       "1            5                                          NaN   3-F-56   \n",
       "2           12                                          NaN   3-F-56   \n",
       "3            7                                          NaN   3-F-56   \n",
       "4           21                                          NaN   3-F-56   \n",
       "\n",
       "  mouse.sex subsetA  subsetA_cluster.ids subsetB  subsetB_cluster.ids  \\\n",
       "0         F     NaN                  NaN     NaN                  NaN   \n",
       "1         F     NaN                  NaN     NaN                  NaN   \n",
       "2         F     NaN                  NaN     NaN                  NaN   \n",
       "3         F     NaN                  NaN     NaN                  NaN   \n",
       "4         F     NaN                  NaN     NaN                  NaN   \n",
       "\n",
       "  subtissue tissue  tissue_tSNE_1  tissue_tSNE_2  \n",
       "0       NaN   Lung      17.024721     -32.902836  \n",
       "1       NaN   Lung      25.160619      25.066566  \n",
       "2       NaN   Lung       1.740567      46.488878  \n",
       "3       NaN   Lung     -31.647934      -2.208061  \n",
       "4       NaN   Lung     -37.281266      -5.619565  "
      ]
     },
     "execution_count": 8,
     "metadata": {},
     "output_type": "execute_result"
    }
   ],
   "source": [
    "anno.head()"
   ]
  },
  {
   "cell_type": "code",
   "execution_count": 9,
   "metadata": {},
   "outputs": [
    {
     "name": "stderr",
     "output_type": "stream",
     "text": [
      "Observation names are not unique. To make them unique, call `.obs_names_make_unique`.\n"
     ]
    },
    {
     "name": "stdout",
     "output_type": "stream",
     "text": [
      "Liver\n",
      "Lung\n"
     ]
    },
    {
     "name": "stderr",
     "output_type": "stream",
     "text": [
      "Observation names are not unique. To make them unique, call `.obs_names_make_unique`.\n",
      "Observation names are not unique. To make them unique, call `.obs_names_make_unique`.\n",
      "Observation names are not unique. To make them unique, call `.obs_names_make_unique`.\n"
     ]
    },
    {
     "name": "stdout",
     "output_type": "stream",
     "text": [
      "Mammary_Gland\n",
      "Bladder\n",
      "Thymus\n"
     ]
    },
    {
     "name": "stderr",
     "output_type": "stream",
     "text": [
      "Observation names are not unique. To make them unique, call `.obs_names_make_unique`.\n",
      "Observation names are not unique. To make them unique, call `.obs_names_make_unique`.\n"
     ]
    },
    {
     "name": "stdout",
     "output_type": "stream",
     "text": [
      "Limb_Muscle\n",
      "Spleen\n",
      "Kidney\n"
     ]
    },
    {
     "name": "stderr",
     "output_type": "stream",
     "text": [
      "Observation names are not unique. To make them unique, call `.obs_names_make_unique`.\n",
      "Observation names are not unique. To make them unique, call `.obs_names_make_unique`.\n"
     ]
    },
    {
     "name": "stdout",
     "output_type": "stream",
     "text": [
      "Marrow\n"
     ]
    }
   ],
   "source": [
    "# add annotation for each tissue\n",
    "for tissue in relevant_tissues:\n",
    "    if tissue not in adatas.keys():\n",
    "        continue\n",
    "    adata = adatas[tissue]\n",
    "    print(tissue)\n",
    "    adata.obs_names, _ = adata.obs_names.str.split(\"-\",1).str\n",
    "    adata.obs['cell'] = ['_'.join(x) for x in zip(adata.obs['channel'], adata.obs_names)]\n",
    "    obs_merged = pd.merge(adata.obs,\n",
    "                          anno[['cell', 'mouse.id', 'mouse.sex', 'cell_ontology_class']], \n",
    "                          how='left', on='cell')\n",
    "    obs_merged.rename(columns={'mouse.sex':'sex', \n",
    "                               'mouse.id':'sample',\n",
    "                               'cell_ontology_class':'cell_type'},\n",
    "                      inplace=True)\n",
    "    obs_merged.drop(columns=['cell'], inplace=True)\n",
    "    obs_merged.set_index(adata.obs.index, inplace=True)\n",
    "    \n",
    "    adata.obs = obs_merged"
   ]
  },
  {
   "cell_type": "markdown",
   "metadata": {},
   "source": [
    "### Most of the ca. 1.5M lung cells are annotated as 'nan'"
   ]
  },
  {
   "cell_type": "code",
   "execution_count": 10,
   "metadata": {},
   "outputs": [
    {
     "data": {
      "text/plain": [
       "View of AnnData object with n_obs × n_vars = 1471306 × 23433 \n",
       "    obs: 'batch', 'channel', 'tissue', 'sample', 'sex', 'cell_type'\n",
       "    var: 'gene_ids'"
      ]
     },
     "execution_count": 10,
     "metadata": {},
     "output_type": "execute_result"
    }
   ],
   "source": [
    "adata = adatas['Lung']\n",
    "adata[adata.obs[\"cell_type\"].isnull()]"
   ]
  },
  {
   "cell_type": "code",
   "execution_count": 11,
   "metadata": {},
   "outputs": [
    {
     "data": {
      "text/plain": [
       "5404"
      ]
     },
     "execution_count": 11,
     "metadata": {},
     "output_type": "execute_result"
    }
   ],
   "source": [
    "sum(adata.obs[\"cell_type\"].notnull())"
   ]
  },
  {
   "cell_type": "code",
   "execution_count": 12,
   "metadata": {},
   "outputs": [
    {
     "data": {
      "text/plain": [
       "stromal cell                                       2540\n",
       "natural killer cell                                 824\n",
       "lung endothelial cell                               462\n",
       "alveolar macrophage                                 345\n",
       "T cell                                              247\n",
       "non-classical monocyte                              220\n",
       "B cell                                              204\n",
       "classical monocyte                                  161\n",
       "leukocyte                                           152\n",
       "type II pneumocyte                                   89\n",
       "myeloid cell                                         87\n",
       "ciliated columnar cell of tracheobronchial tree      49\n",
       "mast cell                                            24\n",
       "Name: cell_type, dtype: int64"
      ]
     },
     "execution_count": 12,
     "metadata": {},
     "output_type": "execute_result"
    }
   ],
   "source": [
    "adata.obs[\"cell_type\"].value_counts()"
   ]
  },
  {
   "cell_type": "code",
   "execution_count": 13,
   "metadata": {},
   "outputs": [
    {
     "data": {
      "text/plain": [
       "(5449, 16)"
      ]
     },
     "execution_count": 13,
     "metadata": {},
     "output_type": "execute_result"
    }
   ],
   "source": [
    "anno[anno['tissue']=='Lung'].shape"
   ]
  },
  {
   "cell_type": "markdown",
   "metadata": {},
   "source": [
    "## QC"
   ]
  },
  {
   "cell_type": "code",
   "execution_count": 14,
   "metadata": {},
   "outputs": [],
   "source": [
    "plt.rcParams['figure.figsize'] = 8,8"
   ]
  },
  {
   "cell_type": "code",
   "execution_count": 15,
   "metadata": {},
   "outputs": [
    {
     "name": "stderr",
     "output_type": "stream",
     "text": [
      "Observation names are not unique. To make them unique, call `.obs_names_make_unique`.\n",
      "Observation names are not unique. To make them unique, call `.obs_names_make_unique`.\n",
      "Observation names are not unique. To make them unique, call `.obs_names_make_unique`.\n",
      "Trying to set attribute `.obs` of view, making a copy.\n",
      "Observation names are not unique. To make them unique, call `.obs_names_make_unique`.\n"
     ]
    },
    {
     "name": "stdout",
     "output_type": "stream",
     "text": [
      "Liver\n",
      "79 cells with cell type 'nan' removed\n"
     ]
    },
    {
     "name": "stderr",
     "output_type": "stream",
     "text": [
      "Observation names are not unique. To make them unique, call `.obs_names_make_unique`.\n",
      "... storing 'channel' as categorical\n",
      "Trying to set attribute `.obs` of view, making a copy.\n",
      "Observation names are not unique. To make them unique, call `.obs_names_make_unique`.\n",
      "Observation names are not unique. To make them unique, call `.obs_names_make_unique`.\n",
      "... storing 'tissue' as categorical\n",
      "Trying to set attribute `.obs` of view, making a copy.\n",
      "Observation names are not unique. To make them unique, call `.obs_names_make_unique`.\n",
      "Observation names are not unique. To make them unique, call `.obs_names_make_unique`.\n",
      "... storing 'sample' as categorical\n",
      "Trying to set attribute `.obs` of view, making a copy.\n",
      "Observation names are not unique. To make them unique, call `.obs_names_make_unique`.\n",
      "Observation names are not unique. To make them unique, call `.obs_names_make_unique`.\n",
      "... storing 'sex' as categorical\n",
      "Trying to set attribute `.obs` of view, making a copy.\n",
      "Observation names are not unique. To make them unique, call `.obs_names_make_unique`.\n",
      "Observation names are not unique. To make them unique, call `.obs_names_make_unique`.\n",
      "... storing 'cell_type' as categorical\n",
      "/home/icb/michaela.mueller/miniconda3/envs/sc-tutorial/lib/python3.7/site-packages/scanpy/plotting/_anndata.py:311: DeprecationWarning: Use obs_vector instead of _get_obs_array, _get_obs_array will be removed in the future.\n",
      "  x_arr = adata._get_obs_array(x, use_raw=use_raw, layer=layers[0])\n",
      "/home/icb/michaela.mueller/miniconda3/envs/sc-tutorial/lib/python3.7/site-packages/anndata/core/anndata.py:1475: FutureWarning: In a future version of AnnData, access to `.X` by passing `layer='X'` will be removed. Instead pass `layer=None`.\n",
      "  FutureWarning\n",
      "/home/icb/michaela.mueller/miniconda3/envs/sc-tutorial/lib/python3.7/site-packages/scanpy/plotting/_anndata.py:312: DeprecationWarning: Use obs_vector instead of _get_obs_array, _get_obs_array will be removed in the future.\n",
      "  y_arr = adata._get_obs_array(y, use_raw=use_raw, layer=layers[1])\n",
      "/home/icb/michaela.mueller/miniconda3/envs/sc-tutorial/lib/python3.7/site-packages/anndata/core/anndata.py:1475: FutureWarning: In a future version of AnnData, access to `.X` by passing `layer='X'` will be removed. Instead pass `layer=None`.\n",
      "  FutureWarning\n"
     ]
    },
    {
     "data": {
      "image/png": "[encoded data removed]",
      "text/plain": [
       "<Figure size 847.44x576 with 1 Axes>"
      ]
     },
     "metadata": {
      "needs_background": "light"
     },
     "output_type": "display_data"
    },
    {
     "name": "stderr",
     "output_type": "stream",
     "text": [
      "Observation names are not unique. To make them unique, call `.obs_names_make_unique`.\n"
     ]
    },
    {
     "name": "stdout",
     "output_type": "stream",
     "text": [
      "Lung\n",
      "1471306 cells with cell type 'nan' removed\n"
     ]
    },
    {
     "name": "stderr",
     "output_type": "stream",
     "text": [
      "Observation names are not unique. To make them unique, call `.obs_names_make_unique`.\n",
      "Observation names are not unique. To make them unique, call `.obs_names_make_unique`.\n",
      "Trying to set attribute `.obs` of view, making a copy.\n",
      "Observation names are not unique. To make them unique, call `.obs_names_make_unique`.\n",
      "Observation names are not unique. To make them unique, call `.obs_names_make_unique`.\n",
      "... storing 'channel' as categorical\n",
      "Trying to set attribute `.obs` of view, making a copy.\n",
      "Observation names are not unique. To make them unique, call `.obs_names_make_unique`.\n",
      "Observation names are not unique. To make them unique, call `.obs_names_make_unique`.\n",
      "... storing 'tissue' as categorical\n",
      "Trying to set attribute `.obs` of view, making a copy.\n",
      "Observation names are not unique. To make them unique, call `.obs_names_make_unique`.\n",
      "Observation names are not unique. To make them unique, call `.obs_names_make_unique`.\n",
      "... storing 'sample' as categorical\n",
      "Trying to set attribute `.obs` of view, making a copy.\n",
      "Observation names are not unique. To make them unique, call `.obs_names_make_unique`.\n",
      "Observation names are not unique. To make them unique, call `.obs_names_make_unique`.\n",
      "... storing 'sex' as categorical\n",
      "Trying to set attribute `.obs` of view, making a copy.\n",
      "Observation names are not unique. To make them unique, call `.obs_names_make_unique`.\n",
      "Observation names are not unique. To make them unique, call `.obs_names_make_unique`.\n",
      "... storing 'cell_type' as categorical\n",
      "/home/icb/michaela.mueller/miniconda3/envs/sc-tutorial/lib/python3.7/site-packages/scanpy/plotting/_anndata.py:311: DeprecationWarning: Use obs_vector instead of _get_obs_array, _get_obs_array will be removed in the future.\n",
      "  x_arr = adata._get_obs_array(x, use_raw=use_raw, layer=layers[0])\n",
      "/home/icb/michaela.mueller/miniconda3/envs/sc-tutorial/lib/python3.7/site-packages/anndata/core/anndata.py:1475: FutureWarning: In a future version of AnnData, access to `.X` by passing `layer='X'` will be removed. Instead pass `layer=None`.\n",
      "  FutureWarning\n",
      "/home/icb/michaela.mueller/miniconda3/envs/sc-tutorial/lib/python3.7/site-packages/scanpy/plotting/_anndata.py:312: DeprecationWarning: Use obs_vector instead of _get_obs_array, _get_obs_array will be removed in the future.\n",
      "  y_arr = adata._get_obs_array(y, use_raw=use_raw, layer=layers[1])\n",
      "/home/icb/michaela.mueller/miniconda3/envs/sc-tutorial/lib/python3.7/site-packages/anndata/core/anndata.py:1475: FutureWarning: In a future version of AnnData, access to `.X` by passing `layer='X'` will be removed. Instead pass `layer=None`.\n",
      "  FutureWarning\n"
     ]
    },
    {
     "data": {
      "image/png": "[encoded data removed]",
      "text/plain": [
       "<Figure size 847.44x576 with 1 Axes>"
      ]
     },
     "metadata": {
      "needs_background": "light"
     },
     "output_type": "display_data"
    },
    {
     "name": "stderr",
     "output_type": "stream",
     "text": [
      "Observation names are not unique. To make them unique, call `.obs_names_make_unique`.\n"
     ]
    },
    {
     "name": "stdout",
     "output_type": "stream",
     "text": [
      "Mammary_Gland\n"
     ]
    },
    {
     "name": "stderr",
     "output_type": "stream",
     "text": [
      "Observation names are not unique. To make them unique, call `.obs_names_make_unique`.\n",
      "Observation names are not unique. To make them unique, call `.obs_names_make_unique`.\n",
      "Trying to set attribute `.obs` of view, making a copy.\n",
      "Observation names are not unique. To make them unique, call `.obs_names_make_unique`.\n",
      "Observation names are not unique. To make them unique, call `.obs_names_make_unique`.\n",
      "... storing 'channel' as categorical\n",
      "Trying to set attribute `.obs` of view, making a copy.\n",
      "Observation names are not unique. To make them unique, call `.obs_names_make_unique`.\n",
      "Observation names are not unique. To make them unique, call `.obs_names_make_unique`.\n",
      "... storing 'tissue' as categorical\n",
      "Trying to set attribute `.obs` of view, making a copy.\n",
      "Observation names are not unique. To make them unique, call `.obs_names_make_unique`.\n",
      "Observation names are not unique. To make them unique, call `.obs_names_make_unique`.\n",
      "... storing 'sample' as categorical\n",
      "Trying to set attribute `.obs` of view, making a copy.\n",
      "Observation names are not unique. To make them unique, call `.obs_names_make_unique`.\n",
      "Observation names are not unique. To make them unique, call `.obs_names_make_unique`.\n",
      "... storing 'sex' as categorical\n",
      "Trying to set attribute `.obs` of view, making a copy.\n",
      "Observation names are not unique. To make them unique, call `.obs_names_make_unique`.\n",
      "Observation names are not unique. To make them unique, call `.obs_names_make_unique`.\n",
      "... storing 'cell_type' as categorical\n",
      "/home/icb/michaela.mueller/miniconda3/envs/sc-tutorial/lib/python3.7/site-packages/scanpy/plotting/_anndata.py:311: DeprecationWarning: Use obs_vector instead of _get_obs_array, _get_obs_array will be removed in the future.\n",
      "  x_arr = adata._get_obs_array(x, use_raw=use_raw, layer=layers[0])\n",
      "/home/icb/michaela.mueller/miniconda3/envs/sc-tutorial/lib/python3.7/site-packages/anndata/core/anndata.py:1475: FutureWarning: In a future version of AnnData, access to `.X` by passing `layer='X'` will be removed. Instead pass `layer=None`.\n",
      "  FutureWarning\n",
      "/home/icb/michaela.mueller/miniconda3/envs/sc-tutorial/lib/python3.7/site-packages/scanpy/plotting/_anndata.py:312: DeprecationWarning: Use obs_vector instead of _get_obs_array, _get_obs_array will be removed in the future.\n",
      "  y_arr = adata._get_obs_array(y, use_raw=use_raw, layer=layers[1])\n",
      "/home/icb/michaela.mueller/miniconda3/envs/sc-tutorial/lib/python3.7/site-packages/anndata/core/anndata.py:1475: FutureWarning: In a future version of AnnData, access to `.X` by passing `layer='X'` will be removed. Instead pass `layer=None`.\n",
      "  FutureWarning\n"
     ]
    },
    {
     "data": {
      "image/png": "[encoded data removed]",
      "text/plain": [
       "<Figure size 847.44x576 with 1 Axes>"
      ]
     },
     "metadata": {
      "needs_background": "light"
     },
     "output_type": "display_data"
    },
    {
     "ename": "KeyError",
     "evalue": "'Brain'",
     "output_type": "error",
     "traceback": [
      "\u001b[0;31m---------------------------------------------------------------------------\u001b[0m",
      "\u001b[0;31mKeyError\u001b[0m                                  Traceback (most recent call last)",
      "\u001b[0;32m<ipython-input-15-687131648fde>\u001b[0m in \u001b[0;36m<module>\u001b[0;34m\u001b[0m\n\u001b[1;32m      1\u001b[0m \u001b[0;32mfor\u001b[0m \u001b[0mtissue\u001b[0m \u001b[0;32min\u001b[0m \u001b[0mrelevant_tissues\u001b[0m\u001b[0;34m:\u001b[0m\u001b[0;34m\u001b[0m\u001b[0;34m\u001b[0m\u001b[0m\n\u001b[0;32m----> 2\u001b[0;31m     \u001b[0madata\u001b[0m \u001b[0;34m=\u001b[0m \u001b[0madatas\u001b[0m\u001b[0;34m[\u001b[0m\u001b[0mtissue\u001b[0m\u001b[0;34m]\u001b[0m\u001b[0;34m\u001b[0m\u001b[0;34m\u001b[0m\u001b[0m\n\u001b[0m\u001b[1;32m      3\u001b[0m     \u001b[0mprint\u001b[0m\u001b[0;34m(\u001b[0m\u001b[0mtissue\u001b[0m\u001b[0;34m)\u001b[0m\u001b[0;34m\u001b[0m\u001b[0;34m\u001b[0m\u001b[0m\n\u001b[1;32m      4\u001b[0m \u001b[0;34m\u001b[0m\u001b[0m\n\u001b[1;32m      5\u001b[0m     \u001b[0;31m# remove cells that are annotated as \"nan\"\u001b[0m\u001b[0;34m\u001b[0m\u001b[0;34m\u001b[0m\u001b[0;34m\u001b[0m\u001b[0m\n",
      "\u001b[0;31mKeyError\u001b[0m: 'Brain'"
     ]
    }
   ],
   "source": [
    "for tissue in relevant_tissues:\n",
    "    adata = adatas[tissue]\n",
    "    print(tissue)\n",
    "    \n",
    "    # remove cells that are annotated as \"nan\"\n",
    "    size_before = adata.n_obs\n",
    "    adata = adata[adata.obs[\"cell_type\"].notnull()].copy()\n",
    "    del adatas[tissue]\n",
    "    adatas[tissue] = adata\n",
    "    if size_before != adata.n_obs:\n",
    "        print(f\"{size_before - adata.n_obs} cells with cell type 'nan' removed\")\n",
    "    \n",
    "    scIB.preprocessing.summarize_counts(adata)\n",
    "    scIB.preprocessing.plot_QC(adata[adata.obs[\"tissue\"] == tissue], color=\"cell_type\")\n",
    "    #sc.pl.violin(adata[adata.obs[\"tissue\"] == tissue], keys=['n_genes', 'n_counts'],\n",
    "    #         jitter=0.4, multi_panel=True)"
   ]
  },
  {
   "cell_type": "code",
   "execution_count": null,
   "metadata": {},
   "outputs": [],
   "source": [
    "for tissue in adatas.keys():\n",
    "    adata = adatas[tissue]\n",
    "    print(tissue)\n",
    "    adata.write(f\"{data_dir}droplet/raw/{tissue}.h5ad\")"
   ]
  },
  {
   "cell_type": "code",
   "execution_count": null,
   "metadata": {},
   "outputs": [],
   "source": [
    "adata_test = sc.read(f\"{data_dir}droplet/raw/Lung.h5ad\")"
   ]
  },
  {
   "cell_type": "code",
   "execution_count": null,
   "metadata": {},
   "outputs": [],
   "source": [
    "list(adata_test.obs[\"cell_type\"].unique())"
   ]
  },
  {
   "cell_type": "code",
   "execution_count": null,
   "metadata": {},
   "outputs": [],
   "source": [
    "adata_test = sc.read(f\"{data_dir}droplet/raw/Lung.h5ad\")"
   ]
  }
 ],
 "metadata": {
  "kernelspec": {
   "display_name": "Python 3",
   "language": "python",
   "name": "python3"
  },
  "language_info": {
   "codemirror_mode": {
    "name": "ipython",
    "version": 3
   },
   "file_extension": ".py",
   "mimetype": "text/x-python",
   "name": "python",
   "nbconvert_exporter": "python",
   "pygments_lexer": "ipython3",
   "version": "3.7.3"
  }
 },
 "nbformat": 4,
 "nbformat_minor": 4
}
