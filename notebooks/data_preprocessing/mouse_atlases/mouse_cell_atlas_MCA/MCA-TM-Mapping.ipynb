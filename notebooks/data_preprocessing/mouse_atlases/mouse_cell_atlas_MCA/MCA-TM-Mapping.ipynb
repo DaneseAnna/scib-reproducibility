{
 "cells": [
  {
   "cell_type": "markdown",
   "metadata": {},
   "source": [
    "# Mapping between Mouse Cell Atlas (MCA) and Tabula Muris (TM)"
   ]
  },
  {
   "cell_type": "code",
   "execution_count": 1,
   "metadata": {},
   "outputs": [],
   "source": [
    "import pandas as pd\n",
    "import scanpy as sc"
   ]
  },
  {
   "cell_type": "markdown",
   "metadata": {},
   "source": [
    "## Tissues\n",
    "Only keep the Intersection of the Tissues"
   ]
  },
  {
   "cell_type": "code",
   "execution_count": 5,
   "metadata": {},
   "outputs": [],
   "source": [
    "tm_tissues = \n",
    "{'Aorta',\n",
    " 'Bladder',\n",
    " 'Brain',\n",
    " 'Colon',\n",
    " 'Diaphragm',\n",
    " 'Fat',\n",
    " 'Heart',\n",
    " 'Kidney',\n",
    " 'Liver',\n",
    " 'Lung',\n",
    " 'Mammary',\n",
    " 'Marrow',\n",
    " 'Muscle',\n",
    " 'Pancreas',\n",
    " 'Skin',\n",
    " 'Spleen',\n",
    " 'Thymus',\n",
    " 'Tongue',\n",
    " 'Trachea'}"
   ]
  },
  {
   "cell_type": "code",
   "execution_count": 6,
   "metadata": {},
   "outputs": [],
   "source": [
    "mca_tissues = \n",
    "{'Bladder',\n",
    " 'BoneMarrow',\n",
    " 'BoneMarrowcKit',\n",
    " 'Brain',\n",
    " 'EmbryonicMesenchyme',\n",
    " 'EmbryonicStemCells',\n",
    " 'FetalBrain',\n",
    " 'FetalFemaleGonad',\n",
    " 'FetalIntestine',\n",
    " 'FetalLiver',\n",
    " 'FetalLung',\n",
    " 'FetalStomach',\n",
    " 'Kidney',\n",
    " 'Liver',\n",
    " 'Lung',\n",
    " 'Male(fetal)Gonad',\n",
    " 'MammaryGland',\n",
    " 'Muscle',\n",
    " 'NeonatalBrain',\n",
    " 'NeonatalCalvaria',\n",
    " 'NeonatalHeart',\n",
    " 'NeonatalMuscle',\n",
    " 'NeonatalPancreas',\n",
    " 'NeonatalRib',\n",
    " 'NeonatalSkin',\n",
    " 'Ovary',\n",
    " 'Pancreas',\n",
    " 'PeripheralBlood',\n",
    " 'Placenta',\n",
    " 'Prostate',\n",
    " 'SmallIntestine',\n",
    " 'Spleen',\n",
    " 'Stomach',\n",
    " 'Thymus',\n",
    " 'TrophoblastStemCells',\n",
    " 'Uterus'}"
   ]
  },
  {
   "cell_type": "code",
   "execution_count": null,
   "metadata": {},
   "outputs": [],
   "source": [
    "{'Bladder',\n",
    " 'Brain',\n",
    " 'Kidney',\n",
    " 'Liver',\n",
    " 'Lung',\n",
    " 'Mammary/MammaryGland',\n",
    " 'Marrow/BoneMarrow',\n",
    " 'Muscle',\n",
    " 'Pancreas',\n",
    " 'Spleen',\n",
    " 'Thymus'}"
   ]
  },
  {
   "cell_type": "code",
   "execution_count": 9,
   "metadata": {},
   "outputs": [
    {
     "data": {
      "text/plain": [
       "{'Bladder',\n",
       " 'Brain',\n",
       " 'Kidney',\n",
       " 'Liver',\n",
       " 'Lung',\n",
       " 'Muscle',\n",
       " 'Pancreas',\n",
       " 'Spleen',\n",
       " 'Thymus'}"
      ]
     },
     "execution_count": 9,
     "metadata": {},
     "output_type": "execute_result"
    }
   ],
   "source": [
    "mca_tissues & tm_tissues"
   ]
  },
  {
   "cell_type": "markdown",
   "metadata": {},
   "source": [
    "## Cell type labels"
   ]
  },
  {
   "cell_type": "code",
   "execution_count": null,
   "metadata": {},
   "outputs": [],
   "source": []
  }
 ],
 "metadata": {
  "kernelspec": {
   "display_name": "Python 3",
   "language": "python",
   "name": "python3"
  },
  "language_info": {
   "codemirror_mode": {
    "name": "ipython",
    "version": 3
   },
   "file_extension": ".py",
   "mimetype": "text/x-python",
   "name": "python",
   "nbconvert_exporter": "python",
   "pygments_lexer": "ipython3",
   "version": "3.7.3"
  }
 },
 "nbformat": 4,
 "nbformat_minor": 4
}
